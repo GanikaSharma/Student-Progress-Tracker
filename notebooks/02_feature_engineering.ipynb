{
 "cells": [
  {
   "cell_type": "code",
   "execution_count": 1,
   "id": "a643bcb9-7723-40b9-b486-386e533eb421",
   "metadata": {},
   "outputs": [],
   "source": [
    "import pandas as pd\n",
    "from sklearn.model_selection import train_test_split\n",
    "from sklearn.preprocessing import StandardScaler\n",
    "from sklearn.feature_extraction.text import TfidfVectorizer"
   ]
  },
  {
   "cell_type": "code",
   "execution_count": 2,
   "id": "f719c3ab-acc9-4582-8d59-6ba72626d866",
   "metadata": {},
   "outputs": [],
   "source": [
    "# Load data\n",
    "df = pd.read_csv(\"../data/raw/student_data.csv\")"
   ]
  },
  {
   "cell_type": "code",
   "execution_count": 4,
   "id": "c4e2b197-5cf9-44e2-bac1-040cdfdbc1ab",
   "metadata": {},
   "outputs": [],
   "source": [
    "# ---- Numeric features ----\n",
    "X_num = df[[\"attendance\", \"assignments_completed\", \"midterm_score\"]]\n",
    "y = df[\"final_score\"]\n",
    "\n",
    "scaler = StandardScaler()\n",
    "X_num_scaled = scaler.fit_transform(X_num)"
   ]
  },
  {
   "cell_type": "code",
   "execution_count": 5,
   "id": "1e8035b2-84cf-4eae-9218-19ab900fa975",
   "metadata": {},
   "outputs": [],
   "source": [
    "# ---- Text features ----\n",
    "tfidf = TfidfVectorizer(max_features=50)\n",
    "X_text = tfidf.fit_transform(df[\"feedback\"]).toarray()"
   ]
  },
  {
   "cell_type": "code",
   "execution_count": 6,
   "id": "9b164ede-ee7c-4ed1-b24b-1227f8458b62",
   "metadata": {},
   "outputs": [],
   "source": [
    "# ---- Combine ----\n",
    "import numpy as np\n",
    "X = np.hstack([X_num_scaled, X_text])"
   ]
  },
  {
   "cell_type": "code",
   "execution_count": 7,
   "id": "a4b55a88-1f78-4629-8cdc-a5261d372775",
   "metadata": {},
   "outputs": [
    {
     "name": "stdout",
     "output_type": "stream",
     "text": [
      "Final feature matrix shape: (100, 26)\n"
     ]
    }
   ],
   "source": [
    "print(\"Final feature matrix shape:\", X.shape)"
   ]
  },
  {
   "cell_type": "code",
   "execution_count": 8,
   "id": "4d39efae-35e8-4a7d-a80d-799b71df213a",
   "metadata": {},
   "outputs": [],
   "source": [
    "# ---- Train-test split ----\n",
    "X_train, X_test, y_train, y_test = train_test_split(\n",
    "    X, y, test_size=0.2, random_state=42\n",
    ")"
   ]
  },
  {
   "cell_type": "code",
   "execution_count": 9,
   "id": "9223385f-708b-48f4-996d-25b5207100ca",
   "metadata": {},
   "outputs": [
    {
     "name": "stdout",
     "output_type": "stream",
     "text": [
      "/c/Users/Ganika Sharma/AppData/Local/Programs/Python/Python312/python\n"
     ]
    }
   ],
   "source": [
    "!which python\n"
   ]
  },
  {
   "cell_type": "code",
   "execution_count": null,
   "id": "edfc2a39-bd41-457b-8d6c-168194a4433b",
   "metadata": {},
   "outputs": [],
   "source": []
  }
 ],
 "metadata": {
  "kernelspec": {
   "display_name": "Python 3 (ipykernel)",
   "language": "python",
   "name": "python3"
  },
  "language_info": {
   "codemirror_mode": {
    "name": "ipython",
    "version": 3
   },
   "file_extension": ".py",
   "mimetype": "text/x-python",
   "name": "python",
   "nbconvert_exporter": "python",
   "pygments_lexer": "ipython3",
   "version": "3.12.1"
  }
 },
 "nbformat": 4,
 "nbformat_minor": 5
}
